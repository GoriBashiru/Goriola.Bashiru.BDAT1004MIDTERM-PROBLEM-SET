{
 "cells": [
  {
   "cell_type": "markdown",
   "id": "98393dd3",
   "metadata": {},
   "source": [
    "# Question 21 "
   ]
  },
  {
   "cell_type": "code",
   "execution_count": 15,
   "id": "634453c6",
   "metadata": {},
   "outputs": [
    {
     "ename": "NameError",
     "evalue": "name 'x' is not defined",
     "output_type": "error",
     "traceback": [
      "\u001b[0;31m---------------------------------------------------------------------------\u001b[0m",
      "\u001b[0;31mNameError\u001b[0m                                 Traceback (most recent call last)",
      "Cell \u001b[0;32mIn[15], line 26\u001b[0m\n\u001b[1;32m     21\u001b[0m         \u001b[38;5;28mself\u001b[39m\u001b[38;5;241m.\u001b[39mx \u001b[38;5;241m+\u001b[39m\u001b[38;5;241m=\u001b[39m dx\n\u001b[1;32m     22\u001b[0m         \u001b[38;5;28mself\u001b[39m\u001b[38;5;241m.\u001b[39my \u001b[38;5;241m+\u001b[39m\u001b[38;5;241m=\u001b[39m dy\n\u001b[0;32m---> 26\u001b[0m p1 \u001b[38;5;241m=\u001b[39m Point(\u001b[38;5;241m3\u001b[39m,\u001b[38;5;241m4\u001b[39m)\n\u001b[1;32m     27\u001b[0m p2 \u001b[38;5;241m=\u001b[39m Point()\n\u001b[1;32m     28\u001b[0m s \u001b[38;5;241m=\u001b[39m Segment(p1,p2)\n",
      "Cell \u001b[0;32mIn[15], line 6\u001b[0m, in \u001b[0;36mPoint.__init__\u001b[0;34m(self, xcoord, ycoord)\u001b[0m\n\u001b[1;32m      4\u001b[0m \u001b[38;5;28;01mdef\u001b[39;00m \u001b[38;5;21m__init__\u001b[39m(\u001b[38;5;28mself\u001b[39m, xcoord\u001b[38;5;241m=\u001b[39m\u001b[38;5;241m0\u001b[39m, ycoord\u001b[38;5;241m=\u001b[39m\u001b[38;5;241m0\u001b[39m):\n\u001b[1;32m      5\u001b[0m     \u001b[38;5;124m'\u001b[39m\u001b[38;5;124minitialize coordinates to (xcoord, ycoord)\u001b[39m\u001b[38;5;124m'\u001b[39m\n\u001b[0;32m----> 6\u001b[0m     \u001b[38;5;28mself\u001b[39m\u001b[38;5;241m.\u001b[39mxcoord \u001b[38;5;241m=\u001b[39m x\n\u001b[1;32m      7\u001b[0m     \u001b[38;5;28mself\u001b[39m\u001b[38;5;241m.\u001b[39mycoord \u001b[38;5;241m=\u001b[39m y\n",
      "\u001b[0;31mNameError\u001b[0m: name 'x' is not defined"
     ]
    }
   ],
   "source": [
    "class Point:\n",
    "    'class that represents a point in the plane'\n",
    "\n",
    "    def __init__(self, xcoord=0, ycoord=0):\n",
    "        'initialize coordinates to (xcoord, ycoord)'\n",
    "        self.xcoord = x\n",
    "        self.ycoord = y\n",
    "\n",
    "class Segment:\n",
    "    \n",
    "    def __init__(self, point1, point2):\n",
    "        self.point1 = p1\n",
    "        self.point2 = p2\n",
    "\n",
    "\n",
    "    def length(self):\n",
    "        return (self.x, self.y)\n",
    "\n",
    "    def move(self, dx, dy):\n",
    "        'change the x and y coordinates by dx and dy'\n",
    "        self.x += dx\n",
    "        self.y += dy\n",
    "\n",
    "\n",
    "\n",
    "p1 = Point(3,4)\n",
    "p2 = Point()\n",
    "s = Segment(p1,p2)\n",
    "s.length()\n",
    "s.slope()\n",
    "\n",
    "\n",
    "\n"
   ]
  },
  {
   "cell_type": "markdown",
   "id": "c08f4fc3",
   "metadata": {},
   "source": [
    "# Question 22 "
   ]
  },
  {
   "cell_type": "code",
   "execution_count": 44,
   "id": "489575f0",
   "metadata": {},
   "outputs": [
    {
     "ename": "SyntaxError",
     "evalue": "incomplete input (2776594748.py, line 15)",
     "output_type": "error",
     "traceback": [
      "\u001b[0;36m  Cell \u001b[0;32mIn[44], line 15\u001b[0;36m\u001b[0m\n\u001b[0;31m    sql = \"\"\"\u001b[0m\n\u001b[0m          ^\u001b[0m\n\u001b[0;31mSyntaxError\u001b[0m\u001b[0;31m:\u001b[0m incomplete input\n"
     ]
    }
   ],
   "source": [
    "import sqlite3\n",
    "\n",
    "con = sqlite3.connect('web.db')\n",
    "cur = con.cursor()\n",
    "\n",
    "# Create the Keywords table\n",
    "cur.execute(\"CREATE TABLE IF NOT EXISTS Keywords (id int, recordDate date, temperature int)\")\n",
    "\n",
    "# Insert data into the Keywords table\n",
    "keywords = [\n",
    "    (1, \"2015-01-01\", 10),\n",
    "    (2, \"2015-01-02\", 25),\n",
    "    (3, \"2015-01-03\", 20),\n",
    "    (4, \"2015-01-04\", 30),\n",
    "]\n",
    "sql_insert = \"INSERT INTO Keywords (id, recordDate, temperature) VALUES (?, ?, ?)\"\n",
    "cur.executemany(sql_insert, keywords)\n",
    "con.commit()\n",
    "\n",
    "# Perform the SELECT query with LAG function\n",
    "sql_select = \"\"\"\n",
    "SELECT f.id\n",
    "FROM Keywords f\n",
    "INNER JOIN (\n",
    "  SELECT id, recordDate, temperature, LAG(temperature) OVER (ORDER BY recordDate) AS prev_temp\n",
    "  FROM Keywords\n",
    ") AS g ON f.id = g.id AND f.recordDate = g.recordDate + 1\n",
    "WHERE f.temperature > g.prev_temp;\n",
    "\"\"\"\n",
    "\n",
    "cur.execute(sql_select)\n",
    "result = cur.fetchall()\n",
    "\n",
    "# Print or use the result as needed\n",
    "print(result)\n",
    "\n",
    "con.close()\n"
   ]
  },
  {
   "cell_type": "code",
   "execution_count": 53,
   "id": "37512c55",
   "metadata": {},
   "outputs": [
    {
     "name": "stdout",
     "output_type": "stream",
     "text": [
      "*\n",
      "**\n",
      "  *\n",
      "  *\n",
      "********\n",
      "  ****\n",
      "    **\n",
      "      *\n",
      "      *\n",
      "    **\n",
      "      *\n",
      "      *\n",
      "  ****\n",
      "    **\n",
      "      *\n",
      "      *\n",
      "    **\n",
      "      *\n",
      "      *\n"
     ]
    }
   ],
   "source": [
    "def tough(indent, stars):\n",
    "    if stars == 0:\n",
    "        return\n",
    "    else:\n",
    "        \n",
    "        print(\" \" * indent + \"*\" * (2 ** (stars - 1))) # Print the current line\n",
    "\n",
    "        \n",
    "        tough(indent + 2, stars - 1) # calls for the top of the pattern\n",
    "\n",
    "        \n",
    "        tough(indent + 2, stars - 1) #calls for the bottom of the pattern\n",
    "\n",
    "# Example \n",
    "tough(0, 0)\n",
    "tough(0, 1)\n",
    "tough(0, 2)\n",
    "tough(0, 4)"
   ]
  },
  {
   "cell_type": "code",
   "execution_count": null,
   "id": "bd6a8d35",
   "metadata": {},
   "outputs": [],
   "source": [
    "b"
   ]
  },
  {
   "cell_type": "code",
   "execution_count": null,
   "id": "88c4d53c",
   "metadata": {},
   "outputs": [],
   "source": []
  }
 ],
 "metadata": {
  "kernelspec": {
   "display_name": "Python 3 (ipykernel)",
   "language": "python",
   "name": "python3"
  },
  "language_info": {
   "codemirror_mode": {
    "name": "ipython",
    "version": 3
   },
   "file_extension": ".py",
   "mimetype": "text/x-python",
   "name": "python",
   "nbconvert_exporter": "python",
   "pygments_lexer": "ipython3",
   "version": "3.11.5"
  }
 },
 "nbformat": 4,
 "nbformat_minor": 5
}
